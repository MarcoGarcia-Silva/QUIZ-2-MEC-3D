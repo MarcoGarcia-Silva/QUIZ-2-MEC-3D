{
 "cells": [
  {
   "cell_type": "markdown",
   "metadata": {},
   "source": [
    "![Image](http://www.utaltamira.edu.mx/wp-content/uploads/2017/06/BIS-LOGO.png)"
   ]
  },
  {
   "cell_type": "markdown",
   "metadata": {},
   "source": [
    "## Quiz 3"
   ]
  },
  {
   "cell_type": "markdown",
   "metadata": {},
   "source": [
    "## Linear regression"
   ]
  },
  {
   "cell_type": "markdown",
   "metadata": {},
   "source": [
    "Develop a program that calculetes the linear regression of a set of data ontroduced by the user."
   ]
  },
  {
   "cell_type": "code",
   "execution_count": 66,
   "metadata": {
    "scrolled": true
   },
   "outputs": [
    {
     "name": "stdout",
     "output_type": "stream",
     "text": [
      "The value of n is 6\n",
      "The sum of Xi 12\n",
      "The sum of Yi 20\n",
      "The sum of Xi squared is 28\n",
      "The sum of XiYi is equal to 44\n",
      "The Square of the sum of Xi 144\n",
      "bi equals 1.0\n",
      "bo is equal to 1.3333333333333333\n",
      "Enter a value \n",
      "Enter a Value For X:10\n",
      "Y it is equal to:11.33 \n"
     ]
    }
   ],
   "source": [
    "n=6\n",
    "print(\"The value of n is\",n)\n",
    "Xi1=1\n",
    "Xi2=1\n",
    "Xi3=2\n",
    "Xi4=2\n",
    "Xi5=3\n",
    "Xi6=3\n",
    "XiTotal=Xi1+Xi2+Xi3+Xi4+Xi5+Xi6\n",
    "print(\"The sum of Xi\",XiTotal)\n",
    "Yi1=2\n",
    "Yi2=3\n",
    "Yi3=3\n",
    "Yi4=3\n",
    "Yi5=4\n",
    "Yi6=5\n",
    "YiTotal=Yi1+Yi2+Yi3+Yi4+Yi5+Yi6\n",
    "Xisquared=Xi1*Xi1+Xi2*Xi2+Xi3*Xi3+Xi4*Xi4+Xi5*Xi5+Xi6*Xi6\n",
    "XiYi=Xi1*Yi1+Xi2*Yi2+Xi3*Yi3+Xi4*Yi4+Xi5*Yi5+Xi6*Yi6\n",
    "print(\"The sum of Yi\",YiTotal)\n",
    "print(\"The sum of Xi squared is\",Xisquared)\n",
    "print(\"The sum of XiYi is equal to\",XiYi)\n",
    "print(\"The Square of the sum of Xi\",XiTotal**2)\n",
    "print(\"bi equals\",(n*XiYi-XiTotal*YiTotal)/(n*Xisquared-XiTotal**2))\n",
    "bi=(n*XiYi-XiTotal*YiTotal)/(n*Xisquared-XiTotal**2)\n",
    "bo=(YiTotal-b1*XiTotal)/(n)\n",
    "print(\"bo is equal to\",bo)\n",
    "print(\"Enter a value \")\n",
    "X=int(input(\"Enter a Value For X:\"))\n",
    "print(f\"Y it is equal to:{round(X*bi+bo,2)} \")\n",
    "\n",
    "\n"
   ]
  },
  {
   "cell_type": "code",
   "execution_count": null,
   "metadata": {},
   "outputs": [],
   "source": []
  },
  {
   "cell_type": "code",
   "execution_count": null,
   "metadata": {},
   "outputs": [],
   "source": []
  },
  {
   "cell_type": "code",
   "execution_count": null,
   "metadata": {},
   "outputs": [],
   "source": []
  }
 ],
 "metadata": {
  "kernelspec": {
   "display_name": "Python 3",
   "language": "python",
   "name": "python3"
  },
  "language_info": {
   "codemirror_mode": {
    "name": "ipython",
    "version": 3
   },
   "file_extension": ".py",
   "mimetype": "text/x-python",
   "name": "python",
   "nbconvert_exporter": "python",
   "pygments_lexer": "ipython3",
   "version": "3.7.3"
  }
 },
 "nbformat": 4,
 "nbformat_minor": 2
}
